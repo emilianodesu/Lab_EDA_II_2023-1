{
 "cells": [
  {
   "cell_type": "markdown",
   "metadata": {},
   "source": [
    "### Actividad 1\n",
    "\n",
    "Ir realizando un programa en Python donde dada una llave formada por una cadena de caracteres (letras y digitos), se pueda insertar y buscar el valor o dato correspondiente a esa llave en tabla hash. Para este desarrollo se tratarán colisiones utiliando el direccionamiento abierto.\n",
    "\n",
    "Aunque en Python ya se cuenta con una estructura de datos de diccionario, en esta guía se hará el mapeo a la tabla hash mediante listas para entender lo explicado antes.\n",
    "\n",
    "Lo primero que se hará es crear la tabla de tamaño *m* utilizando una lista vacía de tamaño *n*, lo cual se puede hacer con la siguiente función:"
   ]
  },
  {
   "cell_type": "code",
   "execution_count": 36,
   "metadata": {},
   "outputs": [],
   "source": [
    "def formarTabla(m):\n",
    "    T=[None]*m\n",
    "    return T"
   ]
  },
  {
   "cell_type": "markdown",
   "metadata": {},
   "source": [
    "Ahora para representar la llave formada por una cadena de caracteres como un valor entero, se usa una función que suma el valor de cada caracter en ASCII y lo que retorna representará la llave. La función en Python queda:"
   ]
  },
  {
   "cell_type": "code",
   "execution_count": 37,
   "metadata": {},
   "outputs": [],
   "source": [
    "def convertirLlave(x):\n",
    "    keyNum=0\n",
    "    i=0\n",
    "    for char in x:\n",
    "        keyNum += ord(char)*i\n",
    "        i+=1\n",
    "    return keyNum"
   ]
  },
  {
   "cell_type": "markdown",
   "metadata": {},
   "source": [
    "Como función hash se utiliza $h(x)=x\\,\\text{mod}\\,m$, la función en Python es:"
   ]
  },
  {
   "cell_type": "code",
   "execution_count": 38,
   "metadata": {},
   "outputs": [],
   "source": [
    "def h(x, m):\n",
    "    return x%m"
   ]
  },
  {
   "cell_type": "markdown",
   "metadata": {},
   "source": [
    "Para agregar un elemento se tiene la siguiente función en Python que considera el manejo de colisiones utilizando el *hashing* lineal y se basa en el pseudocódigo mostrado anteriormente en esta guía. La función recibe como información la tabla *T*, su tamaño *m*, la llave \"*x*\" y el valor a insertar."
   ]
  },
  {
   "cell_type": "code",
   "execution_count": 39,
   "metadata": {},
   "outputs": [],
   "source": [
    "def insertar(T, m, x, valor):\n",
    "    j=0\n",
    "    h1 = h(convertirLlave(x), m)\n",
    "    while j<m :\n",
    "        indice = (h1+j)%m\n",
    "        par = [x, valor]\n",
    "        if T[indice] is None:\n",
    "            T[indice] = par\n",
    "            return indice\n",
    "        else:\n",
    "            j+=1\n",
    "    print(\"No hay lugar\")\n",
    "    return -1"
   ]
  },
  {
   "cell_type": "markdown",
   "metadata": {},
   "source": [
    "Una vez que se introduzcan elementos, será posible localizar datos en la tabla hash. La siguiente función en Python realiza una búsqueda, la cual recibe la misma información que la función *insertar()*."
   ]
  },
  {
   "cell_type": "code",
   "execution_count": 40,
   "metadata": {},
   "outputs": [],
   "source": [
    "def buscar(T, m, x):\n",
    "    j=0\n",
    "    h1=h(convertirLlave(x), m)\n",
    "    while j<m:\n",
    "        indice = (h1+j)%m\n",
    "        if T[indice][0] is not None:\n",
    "            if T[indice][0] == x:\n",
    "                return indice\n",
    "            else:\n",
    "                j+=1\n",
    "        return -1\n",
    "    return -1"
   ]
  },
  {
   "cell_type": "markdown",
   "metadata": {},
   "source": [
    "Para visualizar qué pasa se define la función *main()* donde primero se forma la tabla de tamaño $m=5$, después se agregan 6 elementos (llave, valor), y por último se busca un elemento de los insertados."
   ]
  },
  {
   "cell_type": "code",
   "execution_count": 41,
   "metadata": {},
   "outputs": [],
   "source": [
    "def main():\n",
    "    m = 5\n",
    "    T = formarTabla(m)\n",
    "    print(T)\n",
    "    insertar(T, m, \"Hola1\", \"12213291\")\n",
    "    insertar(T, m, \"Hola2\", \"12213292\")\n",
    "    insertar(T, m, \"Hola3\", \"12213293\")\n",
    "    insertar(T, m, \"Hola4\", \"12213294\")\n",
    "    insertar(T, m, \"Hola5\", \"12213295\")\n",
    "    insertar(T, m, \"Hola6\", \"12213296\")\n",
    "\n",
    "    print(T)\n",
    "    # retorna el indice de la tabla donde localiza el valor dada la llave\n",
    "    print(buscar(T, m, \"Hola3\"))\n",
    "    print(buscar(T, m, \"Hola7\"))"
   ]
  },
  {
   "cell_type": "code",
   "execution_count": 42,
   "metadata": {},
   "outputs": [
    {
     "name": "stdout",
     "output_type": "stream",
     "text": [
      "[None, None, None, None, None]\n",
      "No hay lugar\n",
      "[['Hola5', '12213295'], ['Hola4', '12213294'], ['Hola3', '12213293'], ['Hola2', '12213292'], ['Hola1', '12213291']]\n",
      "2\n",
      "-1\n"
     ]
    }
   ],
   "source": [
    "main()"
   ]
  },
  {
   "cell_type": "markdown",
   "metadata": {},
   "source": [
    "¿Qué sucede al agregar el sexto elemento?\n",
    "\n",
    "**Hay una colisión con el elemento cuya clave es \"Hola1\", y no se inserta en la tabla porque se ha quedado sin espacio para el valor.**\n",
    "\n",
    "¿Qué pasa si se busca un elemento que no está en la tabla?\n",
    "\n",
    "**La función de búsqueda retorna un -1.**"
   ]
  }
 ],
 "metadata": {
  "kernelspec": {
   "display_name": "Python 3",
   "language": "python",
   "name": "python3"
  },
  "language_info": {
   "codemirror_mode": {
    "name": "ipython",
    "version": 3
   },
   "file_extension": ".py",
   "mimetype": "text/x-python",
   "name": "python",
   "nbconvert_exporter": "python",
   "pygments_lexer": "ipython3",
   "version": "3.12.4"
  }
 },
 "nbformat": 4,
 "nbformat_minor": 2
}
