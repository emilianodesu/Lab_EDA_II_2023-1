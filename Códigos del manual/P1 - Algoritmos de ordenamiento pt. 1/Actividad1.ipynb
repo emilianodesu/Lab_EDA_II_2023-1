{
 "cells": [
  {
   "cell_type": "markdown",
   "metadata": {},
   "source": [
    "#### Actividad 1\n",
    "\n",
    "Abajo se muestra la implementación en Python de los pseudocódigos de las funciones *bubbleSort()* y *bubbleSort2()* mencionados en la guía y que permiten realizar el ordenamiento de una lista por ***Bubble Sort***. Se pide realizar un programa que ordene una lista de *n* elementos utilizando ambas funciones."
   ]
  },
  {
   "cell_type": "code",
   "execution_count": 79,
   "metadata": {},
   "outputs": [],
   "source": [
    "def bubbleSort(A):\n",
    "    for i in range(1, len(A)+1):\n",
    "        for j in range (len(A)-1):\n",
    "            if A[j] > A[j+1]:\n",
    "                temp = A[j]\n",
    "                A[j] = A[j+1]\n",
    "                A[j+1] = temp\n",
    "\n",
    "def bubbleSort2(A):\n",
    "    bandera = True\n",
    "    pasada = 0\n",
    "    while pasada < len(A)-1 and bandera:\n",
    "        bandera = False\n",
    "        for j in range(len(A)-1-pasada):\n",
    "            if(A[j] > A[j+1]):\n",
    "                bandera = True\n",
    "                temp = A[j]\n",
    "                A[j] = A[j+1]\n",
    "                A[j+1] = temp\n",
    "        pasada = pasada+1"
   ]
  },
  {
   "cell_type": "markdown",
   "metadata": {},
   "source": [
    "Agregar al código la impresión para conocer el número de pasadas que realiza cada función e indicarlo."
   ]
  },
  {
   "cell_type": "code",
   "execution_count": 80,
   "metadata": {},
   "outputs": [],
   "source": [
    "def bubbleSort(A):\n",
    "    for i in range(1, len(A)+1):\n",
    "        for j in range (len(A)-1):\n",
    "            if A[j] > A[j+1]:\n",
    "                temp = A[j]\n",
    "                A[j] = A[j+1]\n",
    "                A[j+1] = temp\n",
    "        print(\"Pasada \" + str(i)) # Impresion del # de pasada\n",
    "\n",
    "def bubbleSort2(A):\n",
    "    bandera = True\n",
    "    pasada = 0\n",
    "    while pasada < len(A)-1 and bandera:\n",
    "        bandera = False\n",
    "        for j in range(len(A)-1-pasada):\n",
    "            if(A[j] > A[j+1]):\n",
    "                bandera = True\n",
    "                temp = A[j]\n",
    "                A[j] = A[j+1]\n",
    "                A[j+1] = temp\n",
    "        pasada = pasada+1\n",
    "        print(\"Pasada \" + str(pasada)) # Impresion del # de pasada"
   ]
  },
  {
   "cell_type": "markdown",
   "metadata": {},
   "source": [
    "¿Qué se tiene que hacer para ordenar la lista en  orden inverso? Describirlo y modificar el código."
   ]
  },
  {
   "cell_type": "code",
   "execution_count": 81,
   "metadata": {},
   "outputs": [],
   "source": [
    "def bubbleSortInverso(A):\n",
    "    for i in range(1, len(A)+1):\n",
    "        for j in range (len(A)-1):\n",
    "            if A[j] < A[j+1]: # La comparacion se hace para intercambiar los elementos cuando el menor esta a la izquierda\n",
    "                temp = A[j]\n",
    "                A[j] = A[j+1]\n",
    "                A[j+1] = temp\n",
    "        print(\"Pasada \" + str(i)) # Impresion del # de pasada\n",
    "\n",
    "def bubbleSort2Inverso(A):\n",
    "    bandera = True\n",
    "    pasada = 0\n",
    "    while pasada < len(A)-1 and bandera:\n",
    "        bandera = False\n",
    "        for j in range(len(A)-1-pasada):\n",
    "            if(A[j] < A[j+1]): # La comparacion se hace para intercambiar los elementos cuando el menor esta a la izquierda\n",
    "                bandera = True\n",
    "                temp = A[j]\n",
    "                A[j] = A[j+1]\n",
    "                A[j+1] = temp\n",
    "        pasada = pasada+1\n",
    "        print(\"Pasada \" + str(pasada)) # Impresion del # de pasada"
   ]
  },
  {
   "cell_type": "markdown",
   "metadata": {},
   "source": [
    "#### Probando los algoritmos"
   ]
  },
  {
   "cell_type": "code",
   "execution_count": 82,
   "metadata": {},
   "outputs": [
    {
     "name": "stdout",
     "output_type": "stream",
     "text": [
      "[5, 40, 14, 29, 13, 50, 40, 7, 39, 16, 44, 9, 27, 28, 34, 25, 7, 13, 1, 0]\n",
      "Pasada 1\n",
      "Pasada 2\n",
      "Pasada 3\n",
      "Pasada 4\n",
      "Pasada 5\n",
      "Pasada 6\n",
      "Pasada 7\n",
      "Pasada 8\n",
      "Pasada 9\n",
      "Pasada 10\n",
      "Pasada 11\n",
      "Pasada 12\n",
      "Pasada 13\n",
      "Pasada 14\n",
      "Pasada 15\n",
      "Pasada 16\n",
      "Pasada 17\n",
      "Pasada 18\n",
      "Pasada 19\n",
      "Pasada 20\n",
      "[0, 1, 5, 7, 7, 9, 13, 13, 14, 16, 25, 27, 28, 29, 34, 39, 40, 40, 44, 50]\n"
     ]
    }
   ],
   "source": [
    "import random\n",
    "A1 = [random.randint(0,50) for _ in range(20)]\n",
    "print(A1)\n",
    "bubbleSort(A1)\n",
    "print(A1)\n"
   ]
  },
  {
   "cell_type": "code",
   "execution_count": 83,
   "metadata": {},
   "outputs": [
    {
     "name": "stdout",
     "output_type": "stream",
     "text": [
      "[1, 14, 18, 27, 33, 34, 23, 33, 46, 48, 20, 25, 23, 23, 40, 4, 36, 47, 2, 4]\n",
      "Pasada 1\n",
      "Pasada 2\n",
      "Pasada 3\n",
      "Pasada 4\n",
      "Pasada 5\n",
      "Pasada 6\n",
      "Pasada 7\n",
      "Pasada 8\n",
      "Pasada 9\n",
      "Pasada 10\n",
      "Pasada 11\n",
      "Pasada 12\n",
      "Pasada 13\n",
      "Pasada 14\n",
      "Pasada 15\n",
      "Pasada 16\n",
      "Pasada 17\n",
      "Pasada 18\n",
      "[1, 2, 4, 4, 14, 18, 20, 23, 23, 23, 25, 27, 33, 33, 34, 36, 40, 46, 47, 48]\n"
     ]
    }
   ],
   "source": [
    "A2 = [random.randint(0,50) for _ in range(20)]\n",
    "print(A2)\n",
    "bubbleSort2(A2)\n",
    "print(A2)"
   ]
  },
  {
   "cell_type": "code",
   "execution_count": 84,
   "metadata": {},
   "outputs": [
    {
     "name": "stdout",
     "output_type": "stream",
     "text": [
      "[43, 47, 15, 48, 27, 20, 11, 44, 42, 24, 28, 48, 22, 38, 34, 21, 23, 2, 10, 18]\n",
      "Pasada 1\n",
      "Pasada 2\n",
      "Pasada 3\n",
      "Pasada 4\n",
      "Pasada 5\n",
      "Pasada 6\n",
      "Pasada 7\n",
      "Pasada 8\n",
      "Pasada 9\n",
      "Pasada 10\n",
      "Pasada 11\n",
      "Pasada 12\n",
      "Pasada 13\n",
      "Pasada 14\n",
      "Pasada 15\n",
      "Pasada 16\n",
      "Pasada 17\n",
      "Pasada 18\n",
      "Pasada 19\n",
      "Pasada 20\n",
      "[48, 48, 47, 44, 43, 42, 38, 34, 28, 27, 24, 23, 22, 21, 20, 18, 15, 11, 10, 2]\n"
     ]
    }
   ],
   "source": [
    "A3 = [random.randint(0,50) for _ in range(20)]\n",
    "print(A3)\n",
    "bubbleSortInverso(A3)\n",
    "print(A3)"
   ]
  },
  {
   "cell_type": "code",
   "execution_count": 85,
   "metadata": {},
   "outputs": [
    {
     "name": "stdout",
     "output_type": "stream",
     "text": [
      "[47, 1, 49, 27, 2, 19, 46, 32, 29, 44, 34, 9, 21, 18, 45, 25, 31, 13, 17, 18]\n",
      "Pasada 1\n",
      "Pasada 2\n",
      "Pasada 3\n",
      "Pasada 4\n",
      "Pasada 5\n",
      "Pasada 6\n",
      "Pasada 7\n",
      "Pasada 8\n",
      "Pasada 9\n",
      "Pasada 10\n",
      "Pasada 11\n",
      "Pasada 12\n",
      "[49, 47, 46, 45, 44, 34, 32, 31, 29, 27, 25, 21, 19, 18, 18, 17, 13, 9, 2, 1]\n"
     ]
    }
   ],
   "source": [
    "A4 = [random.randint(0,50) for _ in range(20)]\n",
    "print(A4)\n",
    "bubbleSort2Inverso(A4)\n",
    "print(A4)"
   ]
  }
 ],
 "metadata": {
  "kernelspec": {
   "display_name": "Python 3",
   "language": "python",
   "name": "python3"
  },
  "language_info": {
   "codemirror_mode": {
    "name": "ipython",
    "version": 3
   },
   "file_extension": ".py",
   "mimetype": "text/x-python",
   "name": "python",
   "nbconvert_exporter": "python",
   "pygments_lexer": "ipython3",
   "version": "3.12.4"
  }
 },
 "nbformat": 4,
 "nbformat_minor": 2
}
