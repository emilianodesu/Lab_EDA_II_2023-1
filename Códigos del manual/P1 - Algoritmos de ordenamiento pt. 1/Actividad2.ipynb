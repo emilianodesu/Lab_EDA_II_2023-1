{
 "cells": [
  {
   "cell_type": "markdown",
   "metadata": {},
   "source": [
    "### Actividad 2\n",
    "\n",
    "A continuación, se proporciona la implementación en Python de los pseudocódigos de las funciones mencionadas en la guía para el algoritmo ***Merge Sort***. Se requiere utilizarlas para elaborar un programa que ordene una lista proporcionada.  "
   ]
  },
  {
   "cell_type": "code",
   "execution_count": 58,
   "metadata": {},
   "outputs": [],
   "source": [
    "# Merge Sort\n",
    "\n",
    "def crearSubArreglo(A, indIzq, indDer):\n",
    "    return A[indIzq:indDer+1]\n",
    "\n",
    "def merge(A, p, q, r):\n",
    "    izq = crearSubArreglo(A, p, q)\n",
    "    der = crearSubArreglo(A, q+1, r)\n",
    "    i = 0\n",
    "    j = 0\n",
    "    for k in range(p, r+1):\n",
    "        if (j>=len(der)) or (i<len(izq) and izq[i] < der[j]):\n",
    "            A[k] = izq[i]\n",
    "            i = i+1\n",
    "        else:\n",
    "            A[k] = der[j]\n",
    "            j = j+1\n",
    "        \n",
    "\n",
    "def mergeSort(A, p, r):\n",
    "    if r-p > 0:\n",
    "        q = int((p+r)/2)\n",
    "        mergeSort(A, p, q)\n",
    "        mergeSort(A, q+1, r)\n",
    "        merge(A, p, q, r)\n"
   ]
  },
  {
   "cell_type": "markdown",
   "metadata": {},
   "source": [
    "Agregar en el lugar correspondiente la impresión para visualizar las sub-secuencias obtenidas en la recursión."
   ]
  },
  {
   "cell_type": "code",
   "execution_count": 59,
   "metadata": {},
   "outputs": [],
   "source": [
    "def crearSubArreglo(A, indIzq, indDer):\n",
    "    return A[indIzq:indDer+1]\n",
    "\n",
    "def merge(A, p, q, r):\n",
    "    izq = crearSubArreglo(A, p, q)\n",
    "    der = crearSubArreglo(A, q+1, r)\n",
    "    print(izq, end=\" \")\n",
    "    print(der)\n",
    "    i = 0\n",
    "    j = 0\n",
    "    for k in range(p, r+1):\n",
    "        if (j>=len(der)) or (i<len(izq) and izq[i] < der[j]):\n",
    "            A[k] = izq[i]\n",
    "            i = i+1\n",
    "        else:\n",
    "            A[k] = der[j]\n",
    "            j = j+1\n",
    "    print(A[p:r+1], end=\"\\n\\n\")\n",
    "\n",
    "def mergeSort(A, p, r):\n",
    "    if r-p > 0:\n",
    "        q = int((p+r)/2)\n",
    "        mergeSort(A, p, q)\n",
    "        mergeSort(A, q+1, r)\n",
    "        merge(A, p, q, r)\n"
   ]
  },
  {
   "cell_type": "markdown",
   "metadata": {},
   "source": [
    "¿Qué cambio(s) se hace(n) en el algoritmo para ordenar la lista en orden inverso?. Describirlo y realizar cambios en el código. "
   ]
  },
  {
   "cell_type": "code",
   "execution_count": 60,
   "metadata": {},
   "outputs": [],
   "source": [
    "def crearSubArreglo(A, indIzq, indDer):\n",
    "    return A[indIzq:indDer+1]\n",
    "\n",
    "def mergeInverso(A, p, q, r):\n",
    "    izq = crearSubArreglo(A, p, q)\n",
    "    der = crearSubArreglo(A, q+1, r)\n",
    "    print(izq, end=\" \")\n",
    "    print(der)\n",
    "    i = 0\n",
    "    j = 0\n",
    "    for k in range(p, r+1):\n",
    "        # Se cambia < por > en izq[i] > der[j] para que los numeros mas grandes se acomoden primero\n",
    "        if (j>=len(der)) or (i<len(izq) and izq[i] > der[j]):\n",
    "            A[k] = izq[i]\n",
    "            i = i+1\n",
    "        else:\n",
    "            A[k] = der[j]\n",
    "            j = j+1\n",
    "    print(A[p:r+1], end=\"\\n\\n\")\n",
    "\n",
    "def mergeSortInverso(A, p, r):\n",
    "    if r-p > 0:\n",
    "        q = int((p+r)/2)\n",
    "        mergeSortInverso(A, p, q)\n",
    "        mergeSortInverso(A, q+1, r)\n",
    "        mergeInverso(A, p, q, r)\n"
   ]
  },
  {
   "cell_type": "markdown",
   "metadata": {},
   "source": [
    "#### Probando los algoritmos"
   ]
  },
  {
   "cell_type": "code",
   "execution_count": 61,
   "metadata": {},
   "outputs": [
    {
     "name": "stdout",
     "output_type": "stream",
     "text": [
      "[22, 41, 38, 0, 5, 11, 24, 1, 36, 12]\n",
      "[22] [41]\n",
      "[22, 41]\n",
      "\n",
      "[22, 41] [38]\n",
      "[22, 38, 41]\n",
      "\n",
      "[0] [5]\n",
      "[0, 5]\n",
      "\n",
      "[22, 38, 41] [0, 5]\n",
      "[0, 5, 22, 38, 41]\n",
      "\n",
      "[11] [24]\n",
      "[11, 24]\n",
      "\n",
      "[11, 24] [1]\n",
      "[1, 11, 24]\n",
      "\n",
      "[36] [12]\n",
      "[12, 36]\n",
      "\n",
      "[1, 11, 24] [12, 36]\n",
      "[1, 11, 12, 24, 36]\n",
      "\n",
      "[0, 5, 22, 38, 41] [1, 11, 12, 24, 36]\n",
      "[0, 1, 5, 11, 12, 22, 24, 36, 38, 41]\n",
      "\n"
     ]
    }
   ],
   "source": [
    "import random\n",
    "A1 = [random.randint(0,50) for _ in range(10)]\n",
    "print(A1)\n",
    "mergeSort(A1, 0, len(A1)-1)"
   ]
  },
  {
   "cell_type": "code",
   "execution_count": 62,
   "metadata": {},
   "outputs": [
    {
     "name": "stdout",
     "output_type": "stream",
     "text": [
      "[23, 14, 46, 39, 20, 42, 17, 14, 50, 32]\n",
      "[23] [14]\n",
      "[23, 14]\n",
      "\n",
      "[23, 14] [46]\n",
      "[46, 23, 14]\n",
      "\n",
      "[39] [20]\n",
      "[39, 20]\n",
      "\n",
      "[46, 23, 14] [39, 20]\n",
      "[46, 39, 23, 20, 14]\n",
      "\n",
      "[42] [17]\n",
      "[42, 17]\n",
      "\n",
      "[42, 17] [14]\n",
      "[42, 17, 14]\n",
      "\n",
      "[50] [32]\n",
      "[50, 32]\n",
      "\n",
      "[42, 17, 14] [50, 32]\n",
      "[50, 42, 32, 17, 14]\n",
      "\n",
      "[46, 39, 23, 20, 14] [50, 42, 32, 17, 14]\n",
      "[50, 46, 42, 39, 32, 23, 20, 17, 14, 14]\n",
      "\n"
     ]
    }
   ],
   "source": [
    "A2 = [random.randint(0,50) for _ in range(10)]\n",
    "print(A2)\n",
    "mergeSortInverso(A2, 0, len(A2)-1)"
   ]
  }
 ],
 "metadata": {
  "kernelspec": {
   "display_name": "Python 3",
   "language": "python",
   "name": "python3"
  },
  "language_info": {
   "codemirror_mode": {
    "name": "ipython",
    "version": 3
   },
   "file_extension": ".py",
   "mimetype": "text/x-python",
   "name": "python",
   "nbconvert_exporter": "python",
   "pygments_lexer": "ipython3",
   "version": "3.12.4"
  }
 },
 "nbformat": 4,
 "nbformat_minor": 2
}
