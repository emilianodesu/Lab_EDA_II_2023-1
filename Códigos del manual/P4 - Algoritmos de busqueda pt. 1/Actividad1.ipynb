{
 "cells": [
  {
   "cell_type": "markdown",
   "metadata": {},
   "source": [
    "### Actividad 1.1\n",
    "\n",
    "A continuación, se proporciona la implementación en Python de los pseudocódigos de las funciones para búsqueda lineal presentados en este documento. Se pide realizar un programa que utilice las tres funciones para buscar en una lista dada por el profesor, un valor o llave proporcionado en la entrada estándar. Se debe mostrar el número de iteraciones que realiza cada función, así como el índice donde se localizó la llave. Las funciones en Python son las siguientes:"
   ]
  },
  {
   "cell_type": "code",
   "execution_count": 123,
   "metadata": {},
   "outputs": [],
   "source": [
    "# busqueda lineal o secuencial\n",
    "def busquedaLineal(A, n, x):\n",
    "    it = 0\n",
    "    encontrado=-1\n",
    "    for k in range(n):\n",
    "        it = it+1\n",
    "        if A[k] == x:\n",
    "            encontrado=k\n",
    "    return encontrado, it\n",
    "\n",
    "# busqueda lineal mejorada\n",
    "def busquedaLinealMejorada(A, n, x):\n",
    "    it = 0\n",
    "    encontrado=-1\n",
    "    for k in range(n):\n",
    "        it = it+1\n",
    "        if A[k] == x:\n",
    "            encontrado=k\n",
    "            break\n",
    "    return encontrado, it\n",
    "\n",
    "# busqueda lineal con centinela\n",
    "def busquedaLinealCentinela(A, n, x):\n",
    "    it = 0\n",
    "    tmp=A[n-1]\n",
    "    A[n-1]=x\n",
    "    k=0\n",
    "    while A[k] != x:\n",
    "        it = it+1\n",
    "        k=k+1\n",
    "    # print(k)\n",
    "    A[n-1] = tmp\n",
    "    if k < n-1 or A[n-1] == x:\n",
    "        return k, it\n",
    "    else:\n",
    "        return -1, it"
   ]
  },
  {
   "cell_type": "markdown",
   "metadata": {},
   "source": [
    "Probar el programa con diferentes llaves, y describir el porqué de los resultados obtenidos."
   ]
  },
  {
   "cell_type": "code",
   "execution_count": 124,
   "metadata": {},
   "outputs": [
    {
     "name": "stdout",
     "output_type": "stream",
     "text": [
      "[15, 18, 7, 3, 26, 27, 12, 20, 17, 14, 10, 2, 9, 0, 5, 13, 8, 4, 24, 23] \n",
      "\n",
      "Buscando el 10 con busqueda lineal...\n",
      "El 10 se encuentra en el índice 10\n",
      "20 iteraciones realizadas.\n",
      "\n",
      "Buscando el 10 con busqueda lineal mejorada...\n",
      "El 10 se encuentra en el índice 10\n",
      "11 iteraciones realizadas.\n",
      "\n",
      "Buscando el 10 con busqueda lineal con centinela...\n",
      "El 10 se encuentra en el índice 10\n",
      "10 iteraciones realizadas.\n",
      "\n"
     ]
    }
   ],
   "source": [
    "import random\n",
    "A = random.sample(range(30), 20)\n",
    "print(A, \"\\n\")\n",
    "\n",
    "llave = int(input(\"Escriba el valor a buscar: \"))\n",
    "\n",
    "print(\"Buscando el \" + str(llave) + \" con busqueda lineal...\")\n",
    "bl, it1 = busquedaLineal(A, 20, llave)\n",
    "if bl == -1:\n",
    "    print(\"El \" + str(llave) + \" no se encuentra en la lista.\")\n",
    "    print(str(it1) + \" iteraciones realizadas.\\n\")\n",
    "else:\n",
    "    print(\"El \" + str(llave) + \" se encuentra en el índice \" + str(bl))\n",
    "    print(str(it1) + \" iteraciones realizadas.\\n\")\n",
    "\n",
    "print(\"Buscando el \" + str(llave) + \" con busqueda lineal mejorada...\")\n",
    "blm, it2 = busquedaLinealMejorada(A, 20, llave)\n",
    "if blm == -1:\n",
    "    print(\"El \" + str(llave) + \" no se encuentra en la lista.\")\n",
    "    print(str(it2) + \" iteraciones realizadas.\\n\")\n",
    "else:\n",
    "    print(\"El \" + str(llave) + \" se encuentra en el índice \" + str(blm))\n",
    "    print(str(it2) + \" iteraciones realizadas.\\n\")\n",
    "\n",
    "print(\"Buscando el \" + str(llave) + \" con busqueda lineal con centinela...\")\n",
    "blc, it3 = busquedaLinealCentinela(A, 20, llave)\n",
    "if blc == -1:\n",
    "    print(\"El \" + str(llave) + \" no se encuentra en la lista.\")\n",
    "    print(str(it3) + \" iteraciones realizadas.\\n\")\n",
    "else:\n",
    "    print(\"El \" + str(llave) + \" se encuentra en el índice \" + str(blc))\n",
    "    print(str(it3) + \" iteraciones realizadas.\\n\")"
   ]
  },
  {
   "cell_type": "markdown",
   "metadata": {},
   "source": [
    "### Actividad 1.2\n",
    "\n",
    "Implementar la función recursiva de la búsqueda lineal utiliando el pseudocódigo proporcionado en este documento."
   ]
  },
  {
   "cell_type": "code",
   "execution_count": 125,
   "metadata": {},
   "outputs": [],
   "source": [
    "def busquedaLinealRecursiva(A, x, inicio, fin):\n",
    "    if inicio > fin:\n",
    "        encontrado=-1\n",
    "    else:\n",
    "        if A[inicio] == x:\n",
    "            encontrado = inicio\n",
    "        else:\n",
    "            encontrado = busquedaLinealRecursiva(A, x, inicio+1, fin)\n",
    "    return encontrado"
   ]
  },
  {
   "cell_type": "code",
   "execution_count": 126,
   "metadata": {},
   "outputs": [
    {
     "name": "stdout",
     "output_type": "stream",
     "text": [
      "[15, 18, 7, 3, 26, 27, 12, 20, 17, 14, 10, 2, 9, 0, 5, 13, 8, 4, 24, 23]\n",
      "\n",
      "Buscando el 10 con busqueda lineal recursiva...\n",
      "El 10 se encuentra en el índice 10\n"
     ]
    }
   ],
   "source": [
    "print(A, end=\"\\n\\n\")\n",
    "\n",
    "print(\"Buscando el \" + str(llave) + \" con busqueda lineal recursiva...\")\n",
    "blr = busquedaLinealRecursiva(A, llave, 0, 20)\n",
    "if blr == -1:\n",
    "    print(\"El \" + str(llave) + \" no se encuentra en la lista.\")\n",
    "else:\n",
    "    print(\"El \" + str(llave) + \" se encuentra en el índice \" + str(blr))"
   ]
  }
 ],
 "metadata": {
  "kernelspec": {
   "display_name": "Python 3",
   "language": "python",
   "name": "python3"
  },
  "language_info": {
   "codemirror_mode": {
    "name": "ipython",
    "version": 3
   },
   "file_extension": ".py",
   "mimetype": "text/x-python",
   "name": "python",
   "nbconvert_exporter": "python",
   "pygments_lexer": "ipython3",
   "version": "3.12.4"
  }
 },
 "nbformat": 4,
 "nbformat_minor": 2
}
