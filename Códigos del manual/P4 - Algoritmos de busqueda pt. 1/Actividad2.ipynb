{
 "cells": [
  {
   "cell_type": "markdown",
   "metadata": {},
   "source": [
    "### Actividad 2\n",
    "\n",
    "Abajo se muestran las funciones en Python de los pseudocódigos para búsqueda binaria (solución iterativa y recursiva) mencionados en esta guía. Se requiere implementar un programa utilizando estas funciones y alguna de las de ordenamiento vistas en las guías anteriores para bbuscar un valor en la lista proporcionada en la actividad 1."
   ]
  },
  {
   "cell_type": "code",
   "execution_count": 7,
   "metadata": {},
   "outputs": [],
   "source": [
    "import math\n",
    "\n",
    "# Busqueda binaria iterativa\n",
    "def busquedaBinIter(A, x, izquierda, derecha):\n",
    "    while izquierda <= derecha:\n",
    "        medio = math.floor((izquierda+derecha)/2)\n",
    "        if A[medio] == x:\n",
    "            return medio\n",
    "        elif A[medio] < x:\n",
    "            izquierda=medio+1\n",
    "        else:\n",
    "            derecha = medio-1\n",
    "    return -1\n",
    "\n",
    "# Busqueda binaria recursiva\n",
    "def busquedaBinRecursiva(A, x, izquierda, derecha):\n",
    "    if izquierda > derecha:\n",
    "        return -1\n",
    "    medio = math.floor((izquierda+derecha)/2)\n",
    "    print(medio)\n",
    "    if A[medio] == x:\n",
    "        return medio\n",
    "    elif A[medio] < x:\n",
    "        return busquedaBinRecursiva(A, x, medio+1, derecha)\n",
    "    else:\n",
    "        return busquedaBinRecursiva(A, x, izquierda, medio-1)"
   ]
  },
  {
   "cell_type": "code",
   "execution_count": 8,
   "metadata": {},
   "outputs": [],
   "source": [
    "def bubbleSort(A):\n",
    "    for i in range(1, len(A)+1):\n",
    "        for j in range (len(A)-1):\n",
    "            if A[j] > A[j+1]:\n",
    "                temp = A[j]\n",
    "                A[j] = A[j+1]\n",
    "                A[j+1] = temp"
   ]
  },
  {
   "cell_type": "code",
   "execution_count": 9,
   "metadata": {},
   "outputs": [
    {
     "name": "stdout",
     "output_type": "stream",
     "text": [
      "[1, 3, 4, 6, 7, 8, 11, 12, 14, 15, 16, 17, 18, 19, 21, 22, 23, 24, 25, 28] \n",
      "\n",
      "Buscando el 19 con busqueda binaria iterativa...\n",
      "El 19 se encuentra en el índice 13\n",
      "Buscando el 19 con busqueda binaria recursiva...\n",
      "10\n",
      "15\n",
      "12\n",
      "13\n",
      "El 19 se encuentra en el índice 13\n"
     ]
    }
   ],
   "source": [
    "import random\n",
    "A = random.sample(range(30), 20)\n",
    "bubbleSort(A)\n",
    "print(A, \"\\n\")\n",
    "\n",
    "llave = int(input(\"Escriba el valor a buscar: \"))\n",
    "print(\"Buscando el \" + str(llave) + \" con busqueda binaria iterativa...\")\n",
    "bbi = busquedaBinIter(A, llave, 0, 20)\n",
    "if bbi == -1:\n",
    "    print(\"El \" + str(llave) + \" no se encuentra en la lista.\")\n",
    "else:\n",
    "    print(\"El \" + str(llave) + \" se encuentra en el índice \" + str(bbi))\n",
    "\n",
    "print(\"Buscando el \" + str(llave) + \" con busqueda binaria recursiva...\")\n",
    "bbr = busquedaBinRecursiva(A, llave, 0, 20)\n",
    "if bbr == -1:\n",
    "    print(\"El \" + str(llave) + \" no se encuentra en la lista.\")\n",
    "else:\n",
    "    print(\"El \" + str(llave) + \" se encuentra en el índice \" + str(bbr))"
   ]
  }
 ],
 "metadata": {
  "kernelspec": {
   "display_name": "Python 3",
   "language": "python",
   "name": "python3"
  },
  "language_info": {
   "codemirror_mode": {
    "name": "ipython",
    "version": 3
   },
   "file_extension": ".py",
   "mimetype": "text/x-python",
   "name": "python",
   "nbconvert_exporter": "python",
   "pygments_lexer": "ipython3",
   "version": "3.12.4"
  }
 },
 "nbformat": 4,
 "nbformat_minor": 2
}
