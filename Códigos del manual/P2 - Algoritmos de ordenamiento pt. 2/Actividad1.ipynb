{
 "cells": [
  {
   "cell_type": "markdown",
   "metadata": {},
   "source": [
    "### Actividad 1\n",
    "\n",
    "Se proporcionan las funciones mencionadas en pseudocódigo para el algorimto ***Quick Sort*** en Python. Se requiere utilizarlas para elaborar un programa que ordene una lista proporcionada. Las funciones en Python de los pseudocódigos descritos para el algoritmo ***Quick Sort*** son las siguientes:"
   ]
  },
  {
   "cell_type": "code",
   "execution_count": 68,
   "metadata": {},
   "outputs": [],
   "source": [
    "def intercambia(A, x, y):\n",
    "    # A[x], A[y] = A[y], A[x]\n",
    "    tmp = A[x]\n",
    "    A[x] = A[y]\n",
    "    A[y] = tmp\n",
    "\n",
    "def particionar(A, p, r):\n",
    "    print(A)\n",
    "    x = A[p]\n",
    "    print(x)\n",
    "    i = p\n",
    "    for j in range(p+1, r+1):\n",
    "        if (A[j]<=x):\n",
    "            i=i+1\n",
    "            intercambia(A, i, j)\n",
    "    intercambia(A, i, p)\n",
    "    return i\n",
    "\n",
    "def quickSort(A, p, r):\n",
    "    if (p < r):\n",
    "        q = particionar(A, p, r)\n",
    "        quickSort(A, p, q-1)\n",
    "        quickSort(A, q+1, r)"
   ]
  },
  {
   "cell_type": "markdown",
   "metadata": {},
   "source": [
    "Considerar que en esta implementación el índice de inicio de la lista es 0 y no 1.\n",
    "\n",
    "Una vez elaborado el programa, responder a las siguientes preguntas.\n",
    "\n",
    "¿Qué modificaciones se tienen que hacer para ordenar la lista en orden descendente? Describir y modificar el programa."
   ]
  },
  {
   "cell_type": "code",
   "execution_count": 69,
   "metadata": {},
   "outputs": [],
   "source": [
    "def particionarInverso(A, p, r):\n",
    "    print(A)\n",
    "    x = A[p]\n",
    "    print(x)\n",
    "    i = p\n",
    "    for j in range(p+1, r+1):\n",
    "        # Se cambia <= por > para mover los numeros mayores al pivote a la izquierda\n",
    "        if (A[j]>x): \n",
    "            i=i+1\n",
    "            intercambia(A, i, j)\n",
    "    intercambia(A, i, p)\n",
    "    return i\n",
    "\n",
    "def quickSortInverso(A, p, r):\n",
    "    if (p < r):\n",
    "        q = particionarInverso(A, p, r)\n",
    "        quickSortInverso(A, p, q-1)\n",
    "        quickSortInverso(A, q+1, r)"
   ]
  },
  {
   "cell_type": "markdown",
   "metadata": {},
   "source": [
    "¿Qué se cambiaría en la función *particionar()* para que en este proceso se tome al inicio el elemento pivote como el último elemento del subarreglo? Describir y modificar el programa."
   ]
  },
  {
   "cell_type": "code",
   "execution_count": 70,
   "metadata": {},
   "outputs": [],
   "source": [
    "def particionar2(A, p, r):\n",
    "    print(A)\n",
    "    x = A[r] # Se selecciona el ultimo elemento como pivote\n",
    "    print(x)\n",
    "    i = p-1 # i desde p-1\n",
    "    # Se comparan los elementos a la izquierda del pivote, desde j=p hasta j=r-1\n",
    "    for j in range(p, r): \n",
    "        if (A[j]<=x):\n",
    "            i=i+1\n",
    "            intercambia(A, i, j)\n",
    "    intercambia(A, i+1, r) # Intercambia A[i+1] con A[r]\n",
    "    return i+1 # El indice del pivote es i+1\n",
    "\n",
    "def quickSort2(A, p, r):\n",
    "    if (p < r):\n",
    "        q = particionar2(A, p, r)\n",
    "        quickSort2(A, p, q-1)\n",
    "        quickSort2(A, q+1, r)"
   ]
  },
  {
   "cell_type": "markdown",
   "metadata": {},
   "source": [
    "#### Probando los algoritmos"
   ]
  },
  {
   "cell_type": "code",
   "execution_count": 71,
   "metadata": {},
   "outputs": [
    {
     "name": "stdout",
     "output_type": "stream",
     "text": [
      "[50, 27, 11, 26, 31, 17, 0, 21, 20, 0]\n",
      "50\n",
      "[0, 27, 11, 26, 31, 17, 0, 21, 20, 50]\n",
      "0\n",
      "[0, 0, 11, 26, 31, 17, 27, 21, 20, 50]\n",
      "11\n",
      "[0, 0, 11, 26, 31, 17, 27, 21, 20, 50]\n",
      "26\n",
      "[0, 0, 11, 20, 17, 21, 26, 31, 27, 50]\n",
      "20\n",
      "[0, 0, 11, 17, 20, 21, 26, 31, 27, 50]\n",
      "31\n",
      "[0, 0, 11, 17, 20, 21, 26, 27, 31, 50]\n"
     ]
    }
   ],
   "source": [
    "import random\n",
    "A1 = [random.randint(0,50) for _ in range(10)]\n",
    "quickSort(A1, 0, len(A1)-1)\n",
    "print(A1)"
   ]
  },
  {
   "cell_type": "code",
   "execution_count": 72,
   "metadata": {},
   "outputs": [
    {
     "name": "stdout",
     "output_type": "stream",
     "text": [
      "[39, 29, 3, 36, 6, 42, 42, 2, 23, 23]\n",
      "39\n",
      "[42, 42, 39, 36, 6, 29, 3, 2, 23, 23]\n",
      "42\n",
      "[42, 42, 39, 36, 6, 29, 3, 2, 23, 23]\n",
      "36\n",
      "[42, 42, 39, 36, 6, 29, 3, 2, 23, 23]\n",
      "6\n",
      "[42, 42, 39, 36, 23, 29, 23, 6, 3, 2]\n",
      "23\n",
      "[42, 42, 39, 36, 29, 23, 23, 6, 3, 2]\n",
      "3\n",
      "[42, 42, 39, 36, 29, 23, 23, 6, 3, 2]\n"
     ]
    }
   ],
   "source": [
    "A2 = [random.randint(0,50) for _ in range(10)]\n",
    "quickSortInverso(A2, 0, len(A2)-1)\n",
    "print(A2)"
   ]
  },
  {
   "cell_type": "code",
   "execution_count": 73,
   "metadata": {},
   "outputs": [
    {
     "name": "stdout",
     "output_type": "stream",
     "text": [
      "[49, 11, 30, 31, 3, 37, 11, 48, 37, 50]\n",
      "50\n",
      "[49, 11, 30, 31, 3, 37, 11, 48, 37, 50]\n",
      "37\n",
      "[11, 30, 31, 3, 37, 11, 37, 48, 49, 50]\n",
      "11\n",
      "[11, 3, 11, 30, 37, 31, 37, 48, 49, 50]\n",
      "3\n",
      "[3, 11, 11, 30, 37, 31, 37, 48, 49, 50]\n",
      "31\n",
      "[3, 11, 11, 30, 31, 37, 37, 48, 49, 50]\n",
      "49\n",
      "[3, 11, 11, 30, 31, 37, 37, 48, 49, 50]\n"
     ]
    }
   ],
   "source": [
    "A3 = [random.randint(0,50) for _ in range(10)]\n",
    "quickSort2(A3, 0, len(A3)-1)\n",
    "print(A3)"
   ]
  }
 ],
 "metadata": {
  "kernelspec": {
   "display_name": "Python 3",
   "language": "python",
   "name": "python3"
  },
  "language_info": {
   "codemirror_mode": {
    "name": "ipython",
    "version": 3
   },
   "file_extension": ".py",
   "mimetype": "text/x-python",
   "name": "python",
   "nbconvert_exporter": "python",
   "pygments_lexer": "ipython3",
   "version": "3.12.4"
  }
 },
 "nbformat": 4,
 "nbformat_minor": 2
}
