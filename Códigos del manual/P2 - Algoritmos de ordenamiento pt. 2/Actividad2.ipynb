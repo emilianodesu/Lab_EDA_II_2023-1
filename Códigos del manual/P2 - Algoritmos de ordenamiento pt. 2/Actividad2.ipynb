{
 "cells": [
  {
   "cell_type": "markdown",
   "metadata": {},
   "source": [
    "### Actividad 2\n",
    "\n",
    "Se proporcionan las funciones mencionadas en pesudocódigo para el algoritmo **Heap Sort** en Python. Se requiere utilizarlas para elaborar un programa que ordene la misma lista proporcionada.\n",
    "\n",
    "Las funciones en Python de los pseudocódigos descritos para el algoritmo **Heap Sort** son las siguientes:"
   ]
  },
  {
   "cell_type": "code",
   "execution_count": 49,
   "metadata": {},
   "outputs": [],
   "source": [
    "import math\n",
    "def hIzq(i):\n",
    "    return 2*i+1\n",
    "\n",
    "def hDer(i):\n",
    "    return 2*i+2\n",
    "\n",
    "def intercambia(A, x, y):\n",
    "    A[x], A[y] = A[y], A[x]\n",
    "    # tmp = A[x]\n",
    "    # A[x] = A[y]\n",
    "    # A[y] = tmp\n",
    "\n",
    "def maxHeapify(A, i, tamanoHeap):\n",
    "    L = hIzq(i)\n",
    "    R = hDer(i)\n",
    "    if (L<=(tamanoHeap-1) and A[L]>A[i]):\n",
    "        posMax=L\n",
    "    else:\n",
    "        posMax=i\n",
    "    if (R<=(tamanoHeap-1) and A[R]>A[posMax]):\n",
    "        posMax=R\n",
    "    if (posMax != i):\n",
    "        intercambia(A, i, posMax)\n",
    "        maxHeapify(A, posMax, tamanoHeap)\n",
    "    \n",
    "def construirHeapMaxIni(A, tamanoHeap):\n",
    "    for i in range(math.ceil((tamanoHeap-1)/2), -1, -1):\n",
    "        maxHeapify(A, i, tamanoHeap)\n",
    "\n",
    "def heapSort(A, tamanoHeap):\n",
    "    construirHeapMaxIni(A, tamanoHeap)\n",
    "    for i in range(len(A)-1, 0, -1):\n",
    "        intercambia(A, 0, i)\n",
    "        tamanoHeap=tamanoHeap-1\n",
    "        maxHeapify(A, 0, tamanoHeap)"
   ]
  },
  {
   "cell_type": "markdown",
   "metadata": {},
   "source": [
    "Hay que considerar que en esta implementación el índice de inicio de la lista es 0 y no 1 como en los pseudocódigos.\n",
    "\n",
    "Una vez implementado en el programa, ¿qué cambios se harían para usar un ***Heap Mínimo*** en lugar de un ***Heap Máximo***? Describir y modificar el programa para estos cambios."
   ]
  },
  {
   "cell_type": "code",
   "execution_count": 50,
   "metadata": {},
   "outputs": [],
   "source": [
    "def minHeapify(A, i, tamanoHeap):\n",
    "    L = hIzq(i)\n",
    "    R = hDer(i)\n",
    "    if (L<=(tamanoHeap-1) and A[L]<A[i]): # Los valores menores subirán a la raíz\n",
    "        posMin=L # Se guarda la posicion del valor minimo\n",
    "    else:\n",
    "        posMin=i # Se guarda la posicion del valor minimo\n",
    "    if (R<=(tamanoHeap-1) and A[R]<A[posMin]): # Los valores menores subirán a la raíz\n",
    "        posMin=R # Se guarda la posicion del valor minimo\n",
    "    if (posMin != i):\n",
    "        intercambia(A, i, posMin)\n",
    "        minHeapify(A, posMin, tamanoHeap)\n",
    "    \n",
    "def construirHeapMinIni(A, tamanoHeap):\n",
    "    for i in range(int((tamanoHeap-1)/2), -1, -1):\n",
    "        minHeapify(A, i, tamanoHeap) # Se ordena el arreglo tal que se forme un Heap Mínimo\n",
    "\n",
    "def heapSortMin(A, tamanoHeap):\n",
    "    construirHeapMinIni(A, tamanoHeap) # Se llama a la función para construir un Heap Mínimo\n",
    "    for i in range(len(A)-1, 0, -1):\n",
    "        intercambia(A, 0, i)\n",
    "        tamanoHeap=tamanoHeap-1\n",
    "        minHeapify(A, 0, tamanoHeap)"
   ]
  },
  {
   "cell_type": "markdown",
   "metadata": {},
   "source": [
    "#### Probando los algoritmos"
   ]
  },
  {
   "cell_type": "code",
   "execution_count": 51,
   "metadata": {},
   "outputs": [
    {
     "name": "stdout",
     "output_type": "stream",
     "text": [
      "[6, 47, 0, 38, 40, 0, 27, 49, 19, 15, 17, 21, 10, 16, 22, 33, 18, 22, 44, 36]\n",
      "[0, 0, 6, 10, 15, 16, 17, 18, 19, 21, 22, 22, 27, 33, 36, 38, 40, 44, 47, 49]\n"
     ]
    }
   ],
   "source": [
    "import random\n",
    "A1 = [random.randint(0,50) for _ in range(20)]\n",
    "print(A1)\n",
    "heapSort(A1, len(A1))\n",
    "print(A1)"
   ]
  },
  {
   "cell_type": "code",
   "execution_count": 52,
   "metadata": {},
   "outputs": [
    {
     "name": "stdout",
     "output_type": "stream",
     "text": [
      "[13, 15, 10, 7, 44, 38, 49, 27, 43, 9, 49, 24, 20, 2, 8, 20, 23, 26, 36, 47]\n",
      "[49, 49, 47, 44, 43, 38, 36, 27, 26, 24, 23, 20, 20, 15, 13, 10, 9, 8, 7, 2]\n"
     ]
    }
   ],
   "source": [
    "A2 = [random.randint(0,50) for _ in range(20)]\n",
    "print(A2)\n",
    "heapSortMin(A2, len(A2))\n",
    "print(A2)"
   ]
  }
 ],
 "metadata": {
  "kernelspec": {
   "display_name": "Python 3",
   "language": "python",
   "name": "python3"
  },
  "language_info": {
   "codemirror_mode": {
    "name": "ipython",
    "version": 3
   },
   "file_extension": ".py",
   "mimetype": "text/x-python",
   "name": "python",
   "nbconvert_exporter": "python",
   "pygments_lexer": "ipython3",
   "version": "3.12.4"
  }
 },
 "nbformat": 4,
 "nbformat_minor": 2
}
