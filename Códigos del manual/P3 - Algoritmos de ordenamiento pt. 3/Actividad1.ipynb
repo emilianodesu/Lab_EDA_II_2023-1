{
 "cells": [
  {
   "cell_type": "markdown",
   "metadata": {},
   "source": [
    "### Actividad 1\n",
    "\n",
    "Se proporciona la función mencionada en pseudocódigo para el algoritmo ***Counting Sort*** en Python. Se requiere utilizarla para elaborar un programa que ordene una lista de enteros con valores comprendidos entre 0 y *k*. El valor de *k* es propuesto, pero debe ser mayor a 10 y menor a 30.\n",
    "\n",
    "La función en Python del pseudocódigo descrito para ***Counting Sort*** es la siguiente, notar que aquí los índices de inicio de todas las listas es 0:"
   ]
  },
  {
   "cell_type": "code",
   "execution_count": 10,
   "metadata": {},
   "outputs": [],
   "source": [
    "def countingSort(A, k):\n",
    "    C = [0 for _ in range(k+1)]\n",
    "    B = [0 for _ in range(len(A))]\n",
    "    for j in range(len(A)):\n",
    "        C[A[j]] = C[A[j]]+1\n",
    "    for i in range(1,k+1):\n",
    "        C[i] = C[i]+C[i-1]\n",
    "    for j in range(len(A)-1,-1,-1):\n",
    "        B[C[A[j]]-1] = A[j]\n",
    "        C[A[j]] = C[A[j]]-1\n",
    "    return B"
   ]
  },
  {
   "cell_type": "markdown",
   "metadata": {},
   "source": [
    "Una vez realizado el programa, indicar un procedimiento para obtener el valor de *k*, para saber el rango de valores de los elementos de la lista a ordenar. Además, contestar las siguientes preguntas:\n",
    "\n",
    "¿La lista se ordena en orden ascendente o descendente? ¿Por qué?  \n",
    "**Ascendente, porque los valores de la lista van de menor a mayor.**"
   ]
  },
  {
   "cell_type": "code",
   "execution_count": null,
   "metadata": {},
   "outputs": [],
   "source": []
  },
  {
   "cell_type": "code",
   "execution_count": 11,
   "metadata": {},
   "outputs": [
    {
     "name": "stdout",
     "output_type": "stream",
     "text": [
      "k = 30\n",
      "[6, 20, 29, 28, 22, 12, 1, 23, 30, 9, 7, 27, 28, 1, 24, 14, 9, 4, 25, 21]\n",
      "[1, 1, 4, 6, 7, 9, 9, 12, 14, 20, 21, 22, 23, 24, 25, 27, 28, 28, 29, 30]\n"
     ]
    }
   ],
   "source": [
    "import random\n",
    "k = random.randint(11,30)\n",
    "print(\"k = \" + str(k))\n",
    "A1 = [random.randint(0,k) for _ in range(20)]\n",
    "print(A1)\n",
    "A1 = countingSort(A1, k)\n",
    "print(A1)"
   ]
  },
  {
   "cell_type": "markdown",
   "metadata": {},
   "source": [
    "¿Es posible ordenar la lista en orden inverso? ¿Cómo se haría? Realizar los respectivos cambios en el programa.  \n",
    "**Sí.**"
   ]
  },
  {
   "cell_type": "code",
   "execution_count": 12,
   "metadata": {},
   "outputs": [],
   "source": [
    "def countingSortInverso(A, k):\n",
    "    C = [0 for _ in range(k+1)]\n",
    "    B = [0 for _ in range(len(A))]\n",
    "    for j in range(len(A)):\n",
    "        C[A[j]] = C[A[j]]+1\n",
    "    for i in range(k-1,-1,-1):# Se hace el acumulado de derecha a izquierda\n",
    "        C[i] = C[i]+C[i+1]\n",
    "    for j in range(len(A)-1,-1,-1):\n",
    "        B[C[A[j]]-1] = A[j]\n",
    "        C[A[j]] = C[A[j]]-1\n",
    "    return B"
   ]
  },
  {
   "cell_type": "code",
   "execution_count": 13,
   "metadata": {},
   "outputs": [
    {
     "name": "stdout",
     "output_type": "stream",
     "text": [
      "k = 15\n",
      "[8, 9, 0, 3, 10, 4, 3, 10, 12, 15, 6, 6, 12, 10, 1, 11, 12, 9, 6, 14]\n",
      "[15, 14, 12, 12, 12, 11, 10, 10, 10, 9, 9, 8, 6, 6, 6, 4, 3, 3, 1, 0]\n"
     ]
    }
   ],
   "source": [
    "k = random.randint(11,30)\n",
    "print(\"k = \" + str(k))\n",
    "A2 = [random.randint(0,k) for _ in range(20)]\n",
    "print(A2)\n",
    "A2 = countingSortInverso(A2, k)\n",
    "print(A2)"
   ]
  }
 ],
 "metadata": {
  "kernelspec": {
   "display_name": "Python 3",
   "language": "python",
   "name": "python3"
  },
  "language_info": {
   "codemirror_mode": {
    "name": "ipython",
    "version": 3
   },
   "file_extension": ".py",
   "mimetype": "text/x-python",
   "name": "python",
   "nbconvert_exporter": "python",
   "pygments_lexer": "ipython3",
   "version": "3.12.4"
  }
 },
 "nbformat": 4,
 "nbformat_minor": 2
}
