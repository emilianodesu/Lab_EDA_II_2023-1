{
 "cells": [
  {
   "cell_type": "markdown",
   "metadata": {},
   "source": [
    "### Actividad 2\n",
    "\n",
    "Para la explicación del algoritmo ***Radix Sort*** se utilizó el ejemplo de cómo ordenar claves de confirmación de una aerolínea, donde cada clave está formada con seis caracteres. Aquí se muestra una solución al problema en Python. Además, como algoritmo de ordenación estable se utiliza el ***Counting Sort*** visto al inicio del documento con pequeñas modificaciones."
   ]
  },
  {
   "cell_type": "markdown",
   "metadata": {},
   "source": [
    "Se pide probar el código proporcionado con la secuencia  \n",
    "{*XI7FS6, PL4ZQ2, JI8FR9, XL8FQ6, PY2ZR5, KV7WS9, JL2ZV3, KI4WR2*} y colocar la impresión correspondiente para ver las listas parcialmente ordenadas como en la figura 3.8."
   ]
  },
  {
   "cell_type": "markdown",
   "metadata": {},
   "source": [
    "<img src=\"img/fig3_8.png\" height=\"200\" width=\"450\">"
   ]
  },
  {
   "cell_type": "markdown",
   "metadata": {},
   "source": [
    "Cabe mencionar que para la implementación en Python de la solución al problema de la ordenación de claves de la aerolínea mediante el algoritmo ***Radix Sort*** y uso de ***Counting Sort***, se requirió contar el número de caracteres que conforman la clave y formar una lista donde cada elemento contiene información de la clave y el código correspondiente al caracter en análisis (figura 3.7). El código de la figura 3.7 se implementó con un diccionario."
   ]
  },
  {
   "cell_type": "markdown",
   "metadata": {},
   "source": [
    "<img src=\"img/fig3_7.png\" height=\"285\" width=\"150\">"
   ]
  },
  {
   "cell_type": "markdown",
   "metadata": {},
   "source": [
    "Las funciones que conforman la solución y la llamada a la función que da la solución se muestran abajo:"
   ]
  },
  {
   "cell_type": "code",
   "execution_count": 113,
   "metadata": {},
   "outputs": [],
   "source": [
    "def formaListaConClaves(B, numCar):\n",
    "    Btmp = []\n",
    "    D={}\n",
    "    j=0\n",
    "    for i in range(48,58):\n",
    "        D[chr(i)] = j\n",
    "        j+=1\n",
    "    for i in range(65,91):\n",
    "        D[chr(i)] = j\n",
    "        j+=1\n",
    "    for i in range(len(B)):\n",
    "        Btmp.append([B[i]]*2)\n",
    "        A3 = list(B[i])\n",
    "        Btmp[i][1] = D[A3[numCar-1]]\n",
    "    return Btmp\n",
    "\n",
    "def countingSort2(A, k):\n",
    "    C = [0 for _ in range(k+1)]\n",
    "    B = [list(0 for _ in range(2)) for _ in range(len(A))]\n",
    "    for j in range(0, len(A)):\n",
    "        C[A[j][1]] = C[A[j][1]]+1\n",
    "    for i in range(1, k+1):\n",
    "        C[i] = C[i] + C[i-1]\n",
    "    for j in range(len(A)-1, -1, -1):\n",
    "        B[C[A[j][1]]-1][1] = A[j][1]\n",
    "        B[C[A[j][1]]-1][0] = A[j][0]\n",
    "        C[A[j][1]] = C[A[j][1]]-1\n",
    "    return B\n",
    "\n",
    "def obtenerElemSinClaves(E):\n",
    "    Elem=[]\n",
    "    for i in range(0, len(E)):\n",
    "        Elem.append(E[i][0])\n",
    "    return Elem\n",
    "\n",
    "def radixSort(A):\n",
    "    print(\"i  Resultado de las listas con el i-ésimo caracter\")\n",
    "    k = 1\n",
    "    numCar = len(A[1])\n",
    "    for i in range(numCar, 0, -1):\n",
    "        cc = formaListaConClaves(A, i)\n",
    "        ordenado = countingSort2(cc, 36)\n",
    "        A = obtenerElemSinClaves(ordenado)\n",
    "        print(str(k), end=' ')\n",
    "        print(A)\n",
    "        k=k+1\n",
    "    return A"
   ]
  },
  {
   "cell_type": "markdown",
   "metadata": {},
   "source": [
    "Para observar el funcionamiento se crea una lista con las claves y después se llama a la función *radixSort()* como se observa en la definición de la siguiente función *main()*."
   ]
  },
  {
   "cell_type": "code",
   "execution_count": 114,
   "metadata": {},
   "outputs": [
    {
     "name": "stdout",
     "output_type": "stream",
     "text": [
      "i  Resultado de las listas con el i-ésimo caracter\n",
      "1 ['PL4ZQ2', 'KI4WR2', 'JL2ZV3', 'PY2ZR5', 'XI7FS6', 'XL8FQ6', 'JI8FR9', 'KV7WS9']\n",
      "2 ['PL4ZQ2', 'XL8FQ6', 'KI4WR2', 'PY2ZR5', 'JI8FR9', 'XI7FS6', 'KV7WS9', 'JL2ZV3']\n",
      "3 ['XL8FQ6', 'JI8FR9', 'XI7FS6', 'KI4WR2', 'KV7WS9', 'PL4ZQ2', 'PY2ZR5', 'JL2ZV3']\n",
      "4 ['PY2ZR5', 'JL2ZV3', 'KI4WR2', 'PL4ZQ2', 'XI7FS6', 'KV7WS9', 'XL8FQ6', 'JI8FR9']\n",
      "5 ['KI4WR2', 'XI7FS6', 'JI8FR9', 'JL2ZV3', 'PL4ZQ2', 'XL8FQ6', 'KV7WS9', 'PY2ZR5']\n",
      "6 ['JI8FR9', 'JL2ZV3', 'KI4WR2', 'KV7WS9', 'PL4ZQ2', 'PY2ZR5', 'XI7FS6', 'XL8FQ6']\n",
      "\n",
      "\n",
      "Lista ordenada:\n",
      " ['JI8FR9', 'JL2ZV3', 'KI4WR2', 'KV7WS9', 'PL4ZQ2', 'PY2ZR5', 'XI7FS6', 'XL8FQ6']\n"
     ]
    }
   ],
   "source": [
    "def main():\n",
    "    lista = ['XI7FS6', 'PL4ZQ2', 'JI8FR9', 'XL8FQ6', 'PY2ZR5', 'KV7WS9', 'JL2ZV3', 'KI4WR2']\n",
    "    A = radixSort(lista)\n",
    "    print('\\n\\nLista ordenada:\\n', A)\n",
    "\n",
    "main()"
   ]
  },
  {
   "cell_type": "markdown",
   "metadata": {},
   "source": [
    "Una vez terminado lo anterior responder a la siguiente pregunta:\n",
    "\n",
    "¿Qué cambios se harían para ordenar ahora del más significativo al menos significativo (izquierda a derecha)? Describir y realizar las modificaciones correspondientes al programa."
   ]
  },
  {
   "cell_type": "code",
   "execution_count": null,
   "metadata": {},
   "outputs": [],
   "source": []
  }
 ],
 "metadata": {
  "kernelspec": {
   "display_name": "Python 3",
   "language": "python",
   "name": "python3"
  },
  "language_info": {
   "codemirror_mode": {
    "name": "ipython",
    "version": 3
   },
   "file_extension": ".py",
   "mimetype": "text/x-python",
   "name": "python",
   "nbconvert_exporter": "python",
   "pygments_lexer": "ipython3",
   "version": "3.12.4"
  }
 },
 "nbformat": 4,
 "nbformat_minor": 2
}
