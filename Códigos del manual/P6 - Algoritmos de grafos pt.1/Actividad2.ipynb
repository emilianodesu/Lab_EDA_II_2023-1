{
 "cells": [
  {
   "cell_type": "markdown",
   "metadata": {},
   "source": [
    "### Actividad 2\n",
    "\n",
    "Realizar las modificaciones que se describen abajo a las clases *Vertice* y *Grafo* para que en el programa realizado se implemente el algoritmo en pseudocódigo de *BSF* explicado anteriormente.\n",
    "\n",
    "Lo primero es agregar los atributos de color, distancia y predecesor a la clase *Vertice* como sigue:"
   ]
  },
  {
   "cell_type": "code",
   "execution_count": 45,
   "metadata": {},
   "outputs": [],
   "source": [
    "class Vertice:\n",
    "    def __init__(self, n) -> None:\n",
    "        self.nombre = n\n",
    "        self.vecinos = list()\n",
    "        self.distancia = 9999\n",
    "        self.color = 'white'\n",
    "        self.pred = -1\n",
    "    \n",
    "    def agregarVecino(self, v) -> None:\n",
    "        if v not in self.vecinos:\n",
    "            self.vecinos.append(v)\n",
    "            self.vecinos.sort()"
   ]
  },
  {
   "cell_type": "markdown",
   "metadata": {},
   "source": [
    "Ahora adicionar el método *bsf()* a la clase *Grafo*. El método realiza la **Búsqueda primero en anchura** y es el siguiente:"
   ]
  },
  {
   "cell_type": "code",
   "execution_count": 46,
   "metadata": {},
   "outputs": [],
   "source": [
    "class Grafo:\n",
    "\n",
    "    def __init__(self) -> None:\n",
    "        self.vertices={}\n",
    "\n",
    "    def agregarVertice(self, vertice) -> bool:\n",
    "        if isinstance(vertice, Vertice) and vertice.nombre not in self.vertices:\n",
    "            self.vertices[vertice.nombre] = vertice\n",
    "            return True\n",
    "        else:\n",
    "            return False\n",
    "    \n",
    "    def agregarArista(self, u, v) -> bool:\n",
    "        if u in self.vertices and v in self.vertices:\n",
    "            for key, value in self.vertices.items():\n",
    "                if key == u:\n",
    "                    value.agregarVecino(v)\n",
    "                if key == v:\n",
    "                    value.agregarVecino(u)\n",
    "            return True\n",
    "        else:\n",
    "            return False\n",
    "        \n",
    "    def bfs(self, vert):\n",
    "        vert.distancia = 0\n",
    "        vert.color = 'gris'\n",
    "        vert.pred = -1\n",
    "        q=list()\n",
    "\n",
    "        q.append(vert.nombre)\n",
    "\n",
    "        while len(q) > 0:\n",
    "            u = q.pop()\n",
    "            node_u = self.vertices[u]\n",
    "            for v in node_u.vecinos:\n",
    "                node_v = self.vertices[v]\n",
    "                if node_v.color == 'white':\n",
    "                    node_v.color = 'gris'\n",
    "                    node_v.distancia = node_u.distancia+1\n",
    "                    node_v.pred = node_u.nombre\n",
    "                    q.append(v)\n",
    "            self.vertices[u].color='black'\n",
    "\n",
    "    def imprimeGrafo(self) -> None:\n",
    "        for key in sorted(list(self.vertices.keys())):\n",
    "            print(\"Vertice \" + key + \" Sus vecinos son \" + str(self.vertices[key].vecinos))\n",
    "            print(\"La distancia de A a \" + key + \" es: \" + str(self.vertices[key].distancia))\n",
    "\n",
    "    def imprimeGrafo2(self) -> None:\n",
    "        for key in sorted(list(self.vertices.keys())):\n",
    "            print(\"Vertice \" + key + \" Sus vecinos son \" + str(self.vertices[key].vecinos))\n",
    "            print(\"La distancia de 0 a \" + key + \" es: \" + str(self.vertices[key].distancia))"
   ]
  },
  {
   "cell_type": "markdown",
   "metadata": {},
   "source": [
    "Una vez terminadas las modificaciones, probar el programa con diferentes grafos propuestos y verificar resultados."
   ]
  },
  {
   "cell_type": "markdown",
   "metadata": {},
   "source": [
    "---\n",
    "\n",
    "![grafo1](img/graph1.png)  \n",
    "*Grafo 1*"
   ]
  },
  {
   "cell_type": "code",
   "execution_count": 47,
   "metadata": {},
   "outputs": [
    {
     "name": "stdout",
     "output_type": "stream",
     "text": [
      "Vertice 0 Sus vecinos son ['1', '2', '4', '5']\n",
      "La distancia de 0 a 0 es: 0\n",
      "Vertice 1 Sus vecinos son ['0', '3', '4', '5']\n",
      "La distancia de 0 a 1 es: 1\n",
      "Vertice 2 Sus vecinos son ['0', '4']\n",
      "La distancia de 0 a 2 es: 1\n",
      "Vertice 3 Sus vecinos son ['1', '5']\n",
      "La distancia de 0 a 3 es: 2\n",
      "Vertice 4 Sus vecinos son ['0', '1', '2', '5']\n",
      "La distancia de 0 a 4 es: 1\n",
      "Vertice 5 Sus vecinos son ['0', '1', '3', '4']\n",
      "La distancia de 0 a 5 es: 1\n"
     ]
    }
   ],
   "source": [
    "grafo1 = Grafo()\n",
    "for i in range(ord('0'), ord('6')):\n",
    "    grafo1.agregarVertice(Vertice(chr(i)))\n",
    "\n",
    "aristas = ['02', '04', '05', '01', '14', '15', '13', '24', '35', '45']\n",
    "\n",
    "for arista in aristas:\n",
    "    grafo1.agregarArista(arista[:1],arista[1:])\n",
    "\n",
    "grafo1.bfs(grafo1.vertices['0'])\n",
    "grafo1.imprimeGrafo2()"
   ]
  },
  {
   "cell_type": "markdown",
   "metadata": {},
   "source": [
    "---\n",
    "\n",
    "![grafo2](img/graph2.png)  \n",
    "*Grafo 2*"
   ]
  },
  {
   "cell_type": "code",
   "execution_count": 48,
   "metadata": {},
   "outputs": [
    {
     "name": "stdout",
     "output_type": "stream",
     "text": [
      "Vertice 0 Sus vecinos son ['1', '2', '3']\n",
      "La distancia de 0 a 0 es: 0\n",
      "Vertice 1 Sus vecinos son ['0', '4', '5']\n",
      "La distancia de 0 a 1 es: 1\n",
      "Vertice 2 Sus vecinos son ['0', '6']\n",
      "La distancia de 0 a 2 es: 1\n",
      "Vertice 3 Sus vecinos son ['0', '8']\n",
      "La distancia de 0 a 3 es: 1\n",
      "Vertice 4 Sus vecinos son ['1', '7']\n",
      "La distancia de 0 a 4 es: 2\n",
      "Vertice 5 Sus vecinos son ['1', '7']\n",
      "La distancia de 0 a 5 es: 2\n",
      "Vertice 6 Sus vecinos son ['2']\n",
      "La distancia de 0 a 6 es: 2\n",
      "Vertice 7 Sus vecinos son ['4', '5']\n",
      "La distancia de 0 a 7 es: 3\n",
      "Vertice 8 Sus vecinos son ['3']\n",
      "La distancia de 0 a 8 es: 2\n"
     ]
    }
   ],
   "source": [
    "grafo2 = Grafo()\n",
    "for i in range(ord('0'), ord('9')):\n",
    "            grafo2.agregarVertice(Vertice(chr(i)))\n",
    "\n",
    "aristas = ['02', '01', '03', '14', '15', '26', '38', '47', '57']\n",
    "\n",
    "for arista in aristas:\n",
    "    grafo2.agregarArista(arista[:1],arista[1:])\n",
    "\n",
    "grafo2.bfs(grafo2.vertices['0'])\n",
    "grafo2.imprimeGrafo2()"
   ]
  },
  {
   "cell_type": "markdown",
   "metadata": {},
   "source": [
    "---\n",
    "\n",
    "![grafo3](img/graph3.png)  \n",
    "*Grafo 3*"
   ]
  },
  {
   "cell_type": "code",
   "execution_count": 49,
   "metadata": {},
   "outputs": [
    {
     "name": "stdout",
     "output_type": "stream",
     "text": [
      "Vertice 0 Sus vecinos son ['2', '3', '5']\n",
      "La distancia de 0 a 0 es: 0\n",
      "Vertice 1 Sus vecinos son ['2', '3', '4']\n",
      "La distancia de 0 a 1 es: 2\n",
      "Vertice 2 Sus vecinos son ['0', '1', '4']\n",
      "La distancia de 0 a 2 es: 1\n",
      "Vertice 3 Sus vecinos son ['0', '1']\n",
      "La distancia de 0 a 3 es: 1\n",
      "Vertice 4 Sus vecinos son ['1', '2']\n",
      "La distancia de 0 a 4 es: 3\n",
      "Vertice 5 Sus vecinos son ['0']\n",
      "La distancia de 0 a 5 es: 1\n"
     ]
    }
   ],
   "source": [
    "grafo3 = Grafo()\n",
    "for i in range(ord('0'), ord('6')):\n",
    "            grafo3.agregarVertice(Vertice(chr(i)))\n",
    "\n",
    "aristas = ['05', '02', '03', '12', '13', '14', '24']\n",
    "\n",
    "for arista in aristas:\n",
    "    grafo3.agregarArista(arista[:1],arista[1:])\n",
    "\n",
    "grafo3.bfs(grafo3.vertices['0'])\n",
    "grafo3.imprimeGrafo2()"
   ]
  }
 ],
 "metadata": {
  "kernelspec": {
   "display_name": "Python 3",
   "language": "python",
   "name": "python3"
  },
  "language_info": {
   "codemirror_mode": {
    "name": "ipython",
    "version": 3
   },
   "file_extension": ".py",
   "mimetype": "text/x-python",
   "name": "python",
   "nbconvert_exporter": "python",
   "pygments_lexer": "ipython3",
   "version": "3.12.4"
  }
 },
 "nbformat": 4,
 "nbformat_minor": 2
}
