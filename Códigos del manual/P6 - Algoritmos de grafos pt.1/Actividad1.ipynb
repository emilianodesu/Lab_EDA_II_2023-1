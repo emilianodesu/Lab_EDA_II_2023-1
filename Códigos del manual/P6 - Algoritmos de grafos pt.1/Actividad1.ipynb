{
 "cells": [
  {
   "cell_type": "markdown",
   "metadata": {},
   "source": [
    "### Actividad 1\n",
    "\n",
    "Realizar un programa que represente un grafo mediante una lista de adyacencia y el paradigmma orientado a objetos. A continuación, se describe brevemente un diseño e implementación en Python que ayudará al desarrollo del programa.\n",
    "\n",
    "Considerar dos clases, la clase *Vertice* y la clase *Grafo* con sus atributos y métodos, como se muestra en el diagrama de clases de la figura 6.13."
   ]
  },
  {
   "cell_type": "markdown",
   "metadata": {},
   "source": [
    "![figura6.13](img/fig6_13.png)  \n",
    "*Figura 6.13*"
   ]
  },
  {
   "cell_type": "markdown",
   "metadata": {},
   "source": [
    "Abajo se muestra la implementación en Python de la clase *Vertice* y *Grafo*."
   ]
  },
  {
   "cell_type": "code",
   "execution_count": 1,
   "metadata": {},
   "outputs": [],
   "source": [
    "class Vertice:\n",
    "    def __init__(self, n) -> None:\n",
    "        self.nombre = n\n",
    "        self.vecinos = list()\n",
    "    \n",
    "    def agregarVecino(self, v) -> None:\n",
    "        if v not in self.vecinos:\n",
    "            self.vecinos.append(v)\n",
    "            self.vecinos.sort()"
   ]
  },
  {
   "cell_type": "code",
   "execution_count": 2,
   "metadata": {},
   "outputs": [],
   "source": [
    "class Grafo:\n",
    "\n",
    "    def __init__(self) -> None:\n",
    "        self.vertices={}\n",
    "\n",
    "    def agregarVertice(self, vertice) -> bool:\n",
    "        if isinstance(vertice, Vertice) and vertice.nombre not in self.vertices:\n",
    "            self.vertices[vertice.nombre] = vertice\n",
    "            return True\n",
    "        else:\n",
    "            return False\n",
    "    \n",
    "    def agregarArista(self, u, v) -> bool:\n",
    "        if u in self.vertices and v in self.vertices:\n",
    "            for key, value in self.vertices.items():\n",
    "                if key == u:\n",
    "                    value.agregarVecino(v)\n",
    "                if key == v:\n",
    "                    value.agregarVecino(u)\n",
    "            return True\n",
    "        else:\n",
    "            return False\n",
    "\n",
    "    def imprimeGrafo(self) -> None:\n",
    "        for key in sorted(list(self.vertices.keys())):\n",
    "            print(\"Vertice \" + key + \" Sus vecinos son \" + str(self.vertices[key].vecinos))"
   ]
  },
  {
   "cell_type": "markdown",
   "metadata": {},
   "source": [
    "La siguiente clase es la controladora, donde se coloca la secuencia de código que permite formar un grafo utilizando las clases *Vertice* y *Grafo*, y cuyos vértices se representan con letras mayúsculas del alfabeto. Primero, se crea un objeto '*g*' de la clase Grafo y después se crean vértices que se van agregando al grafo. "
   ]
  },
  {
   "cell_type": "code",
   "execution_count": 3,
   "metadata": {},
   "outputs": [],
   "source": [
    "# Clase controladora\n",
    "class Controladora:\n",
    "    def main(self):\n",
    "        # Se crea un objeto 'g' de la clase Grafo, el grafo\n",
    "        g = Grafo()\n",
    "        # Se crea un objeto 'a' de la clase Vertice, un vertice\n",
    "        a = Vertice('A')\n",
    "        # Se agrega el vertice al grafo\n",
    "        g.agregarVertice(a)\n",
    "\n",
    "        # Esta estructura de repetición es para agregar\n",
    "        # todos los vértices, y no hacerlo uno a uno\n",
    "        for i in range(ord('A'), ord('K')):\n",
    "            g.agregarVertice(Vertice(chr(i)))\n",
    "        \n",
    "        # Se declara una lista que contiene las aristas del grafo\n",
    "        edges = ['AB', 'AE', 'BF', 'CG', 'DE', 'DH', 'EH', 'FG', 'FI', 'FJ', 'GJ']\n",
    "\n",
    "        # Se agregan las aristas al grafo\n",
    "        for edge in edges:\n",
    "            g.agregarArista(edge[:1],edge[1:])\n",
    "        # Se imprime el grafo, como lista de adyacencia\n",
    "        g.imprimeGrafo()"
   ]
  },
  {
   "cell_type": "markdown",
   "metadata": {},
   "source": [
    "Para la ejecución del programa, se crea un objeto de la clase controladora y después se llama a la función *main()*:"
   ]
  },
  {
   "cell_type": "code",
   "execution_count": 4,
   "metadata": {},
   "outputs": [
    {
     "name": "stdout",
     "output_type": "stream",
     "text": [
      "Vertice A Sus vecinos son ['B', 'E']\n",
      "Vertice B Sus vecinos son ['A', 'F']\n",
      "Vertice C Sus vecinos son ['G']\n",
      "Vertice D Sus vecinos son ['E', 'H']\n",
      "Vertice E Sus vecinos son ['A', 'D', 'H']\n",
      "Vertice F Sus vecinos son ['B', 'G', 'I', 'J']\n",
      "Vertice G Sus vecinos son ['C', 'F', 'J']\n",
      "Vertice H Sus vecinos son ['D', 'E']\n",
      "Vertice I Sus vecinos son ['F']\n",
      "Vertice J Sus vecinos son ['F', 'G']\n"
     ]
    }
   ],
   "source": [
    "obj = Controladora()\n",
    "obj.main()"
   ]
  },
  {
   "cell_type": "markdown",
   "metadata": {},
   "source": [
    "Una vez terminado el programa, probarlo con tres grafos no dirigidos propuestos."
   ]
  },
  {
   "cell_type": "markdown",
   "metadata": {},
   "source": [
    "---\n",
    "\n",
    "![grafo1](img/graph1.png)  \n",
    "*Grafo 1*"
   ]
  },
  {
   "cell_type": "code",
   "execution_count": 5,
   "metadata": {},
   "outputs": [
    {
     "name": "stdout",
     "output_type": "stream",
     "text": [
      "Vertice 0 Sus vecinos son ['1', '2', '4', '5']\n",
      "Vertice 1 Sus vecinos son ['0', '3', '4', '5']\n",
      "Vertice 2 Sus vecinos son ['0', '4']\n",
      "Vertice 3 Sus vecinos son ['1', '5']\n",
      "Vertice 4 Sus vecinos son ['0', '1', '2', '5']\n",
      "Vertice 5 Sus vecinos son ['0', '1', '3', '4']\n"
     ]
    }
   ],
   "source": [
    "grafo1 = Grafo()\n",
    "for i in range(ord('0'), ord('6')):\n",
    "            grafo1.agregarVertice(Vertice(chr(i)))\n",
    "\n",
    "aristas = ['02', '04', '05', '01', '14', '15', '13', '24', '35', '45']\n",
    "\n",
    "for arista in aristas:\n",
    "    grafo1.agregarArista(arista[:1],arista[1:])\n",
    "\n",
    "grafo1.imprimeGrafo()"
   ]
  },
  {
   "cell_type": "markdown",
   "metadata": {},
   "source": [
    "---\n",
    "\n",
    "![grafo2](img/graph2.png)  \n",
    "*Grafo 2*"
   ]
  },
  {
   "cell_type": "code",
   "execution_count": 6,
   "metadata": {},
   "outputs": [
    {
     "name": "stdout",
     "output_type": "stream",
     "text": [
      "Vertice 0 Sus vecinos son ['1', '2', '3']\n",
      "Vertice 1 Sus vecinos son ['0', '4', '5']\n",
      "Vertice 2 Sus vecinos son ['0', '6']\n",
      "Vertice 3 Sus vecinos son ['0', '8']\n",
      "Vertice 4 Sus vecinos son ['1', '7']\n",
      "Vertice 5 Sus vecinos son ['1', '7']\n",
      "Vertice 6 Sus vecinos son ['2']\n",
      "Vertice 7 Sus vecinos son ['4', '5']\n",
      "Vertice 8 Sus vecinos son ['3']\n"
     ]
    }
   ],
   "source": [
    "grafo2 = Grafo()\n",
    "for i in range(ord('0'), ord('9')):\n",
    "            grafo2.agregarVertice(Vertice(chr(i)))\n",
    "\n",
    "aristas = ['02', '01', '03', '14', '15', '26', '38', '47', '57']\n",
    "\n",
    "for arista in aristas:\n",
    "    grafo2.agregarArista(arista[:1],arista[1:])\n",
    "\n",
    "grafo2.imprimeGrafo()"
   ]
  },
  {
   "cell_type": "markdown",
   "metadata": {},
   "source": [
    "---\n",
    "![grafo3](img/graph3.png)  \n",
    "*Grafo 3*"
   ]
  },
  {
   "cell_type": "code",
   "execution_count": 7,
   "metadata": {},
   "outputs": [
    {
     "name": "stdout",
     "output_type": "stream",
     "text": [
      "Vertice 0 Sus vecinos son ['2', '3', '5']\n",
      "Vertice 1 Sus vecinos son ['2', '3', '4']\n",
      "Vertice 2 Sus vecinos son ['0', '1', '4']\n",
      "Vertice 3 Sus vecinos son ['0', '1']\n",
      "Vertice 4 Sus vecinos son ['1', '2']\n",
      "Vertice 5 Sus vecinos son ['0']\n"
     ]
    }
   ],
   "source": [
    "grafo3 = Grafo()\n",
    "for i in range(ord('0'), ord('6')):\n",
    "            grafo3.agregarVertice(Vertice(chr(i)))\n",
    "\n",
    "aristas = ['05', '02', '03', '12', '13', '14', '24']\n",
    "\n",
    "for arista in aristas:\n",
    "    grafo3.agregarArista(arista[:1],arista[1:])\n",
    "\n",
    "grafo3.imprimeGrafo()"
   ]
  }
 ],
 "metadata": {
  "kernelspec": {
   "display_name": "Python 3",
   "language": "python",
   "name": "python3"
  },
  "language_info": {
   "codemirror_mode": {
    "name": "ipython",
    "version": 3
   },
   "file_extension": ".py",
   "mimetype": "text/x-python",
   "name": "python",
   "nbconvert_exporter": "python",
   "pygments_lexer": "ipython3",
   "version": "3.12.4"
  }
 },
 "nbformat": 4,
 "nbformat_minor": 2
}
